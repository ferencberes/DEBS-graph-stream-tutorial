{
 "cells": [
  {
   "cell_type": "code",
   "execution_count": null,
   "id": "8cf6214b",
   "metadata": {
    "slideshow": {
     "slide_type": "skip"
    }
   },
   "outputs": [],
   "source": [
    "from IPython.core.display import display, HTML\n",
    "display(HTML(\"<style>.container { width:100% !important; }</style>\"))"
   ]
  },
  {
   "cell_type": "code",
   "execution_count": null,
   "id": "762bce26",
   "metadata": {
    "slideshow": {
     "slide_type": "skip"
    }
   },
   "outputs": [],
   "source": [
    "%matplotlib inline\n",
    "import matplotlib.pyplot as plt"
   ]
  },
  {
   "cell_type": "code",
   "execution_count": null,
   "id": "f2582225",
   "metadata": {
    "slideshow": {
     "slide_type": "skip"
    }
   },
   "outputs": [],
   "source": [
    "import pandas as pd\n",
    "import numpy as np\n",
    "import os"
   ]
  },
  {
   "cell_type": "code",
   "execution_count": null,
   "id": "7447d82f",
   "metadata": {},
   "outputs": [],
   "source": [
    "low_memory_mode = True"
   ]
  },
  {
   "cell_type": "markdown",
   "id": "e889f145",
   "metadata": {
    "slideshow": {
     "slide_type": "slide"
    }
   },
   "source": [
    "# 1. Twitter tennis datasets\n",
    "\n",
    "We compiled two separate tweet collections, `RG17` for **Roland-Garros 2017**, the French\n",
    "Open Tennis Tournament, and `uo17` for **US Open 2017**, the United States Open Tennis\n",
    "Championship.\n",
    "\n",
    "## Data collection\n",
    "\n",
    "- We gathered data with the Twitter Search API, by using the following two separate sets of keywords:\n",
    "\n",
    "```\n",
    "{@rolandgarros, #RolandGarros2017,\n",
    "#rolandgarros2017, #RolandGarros, #rolandgarros,\n",
    "#FrenchOpen, #frenchopen, #RG17, #rg17}\n",
    "\n",
    "{#usopen, #Usopen, #UsOpen, #USOPEN,\n",
    "#usopen17, #UsOpen17, #Usopen2017, @usopen,\n",
    "#WTA, #wta, #ATP, #atp, @WTA, @ATPWorldTour,\n",
    "#Tennis, #tennis, #tenis, #Tenis}\n",
    "```\n",
    "\n",
    "- Extract the underlying mention graph from the tweets (retweets are excluded)"
   ]
  },
  {
   "cell_type": "markdown",
   "id": "55407e8d",
   "metadata": {
    "slideshow": {
     "slide_type": "subslide"
    }
   },
   "source": [
    "## Event timeline\n",
    "\n",
    "- **Qualifications:**\n",
    "   - RG17: 2017-05-22 -> 2017-05-26 (we collected data only from 2017-05-24)\n",
    "   - UO17: 2017-08-22 -> 2017-08-25\n",
    "- **Days without tournaments:**\n",
    "   - RG17: 2017-05-27\n",
    "   - UO17: 2017-08-26 -> 2017-08-27\n",
    "- **Main tournaments:** used for supervised model evaluation\n",
    "   - RG17: 2017-05-28 -> 2017-06-11 (15 days)\n",
    "   - UO17: 2017-08-28 -> 2017-09-10 (14 days)"
   ]
  },
  {
   "cell_type": "markdown",
   "id": "8cbad07a",
   "metadata": {
    "slideshow": {
     "slide_type": "fragment"
    }
   },
   "source": [
    "## Dataset preparation\n",
    "\n",
    "```\n",
    "pip install online-node2vec\n",
    "\n",
    "```"
   ]
  },
  {
   "cell_type": "code",
   "execution_count": null,
   "id": "440dbd1a",
   "metadata": {
    "slideshow": {
     "slide_type": "fragment"
    }
   },
   "outputs": [],
   "source": [
    "from online_node2vec.data.tennis_handler import download_data_set\n",
    "data_dir = \"../data\"\n",
    "dataset_id = \"rg17\""
   ]
  },
  {
   "cell_type": "code",
   "execution_count": null,
   "id": "da05c9a5",
   "metadata": {
    "slideshow": {
     "slide_type": "subslide"
    }
   },
   "outputs": [],
   "source": [
    "preproc_dir, handler = download_data_set(data_dir, dataset_id)\n",
    "print(\"Path for preprocessed data:\", preproc_dir)"
   ]
  },
  {
   "cell_type": "markdown",
   "id": "c7d2f246",
   "metadata": {
    "slideshow": {
     "slide_type": "subslide"
    }
   },
   "source": [
    "### Edge stream\n",
    "\n",
    "- **Nodes:** Twitter accounts\n",
    "- **Edges:** \n",
    "   - @-mentions between accounts\n",
    "   - timestamp is extracted from the tweet"
   ]
  },
  {
   "cell_type": "code",
   "execution_count": null,
   "id": "faf8b843",
   "metadata": {
    "slideshow": {
     "slide_type": "fragment"
    }
   },
   "outputs": [],
   "source": [
    "edges = np.loadtxt(os.path.join(preproc_dir, \"edges.csv\"), delimiter=\"|\", max_rows=5)\n",
    "print(edges)"
   ]
  },
  {
   "cell_type": "markdown",
   "id": "95c4bb7d",
   "metadata": {
    "slideshow": {
     "slide_type": "subslide"
    }
   },
   "source": [
    "Number of nodes and edges in the RG17 mention graph. \n",
    "- During the qualifiers the number of interactions is low. \n",
    "- Then user activity increases as the championship starts from May 28  \n",
    "- Activity burst due to Men’s Singles finals on June 7–9–11"
   ]
  },
  {
   "cell_type": "code",
   "execution_count": null,
   "id": "e0abfa8a",
   "metadata": {
    "slideshow": {
     "slide_type": "fragment"
    }
   },
   "outputs": [],
   "source": [
    "fig = handler.visualize(kind=\"graph\", figsize=(8,5))\n",
    "fig.axes[0].set_title(\"RG17\")"
   ]
  },
  {
   "cell_type": "markdown",
   "id": "4456e02f",
   "metadata": {
    "slideshow": {
     "slide_type": "subslide"
    }
   },
   "source": [
    "### Official event schedule"
   ]
  },
  {
   "cell_type": "code",
   "execution_count": null,
   "id": "f59d00ea",
   "metadata": {
    "slideshow": {
     "slide_type": "fragment"
    }
   },
   "outputs": [],
   "source": [
    "handler.schedule.head()"
   ]
  },
  {
   "cell_type": "markdown",
   "id": "0c84eb09",
   "metadata": {
    "slideshow": {
     "slide_type": "subslide"
    }
   },
   "source": [
    "### Tennis player accounts on Twitter\n",
    "\n",
    "- The total number of professional participants for Roland-Garros is 698. Unfortunately, many of the players have no Twitter accounts.\n",
    "\n",
    "- We assigned players to accounts by the Twitter Search API’s people endpoint; however, the API was sometimes unable to identify the accounts of the active players."
   ]
  },
  {
   "cell_type": "code",
   "execution_count": null,
   "id": "260e564e",
   "metadata": {
    "slideshow": {
     "slide_type": "fragment"
    }
   },
   "outputs": [],
   "source": [
    "fig = handler.visualize(kind=\"players\", figsize=(8,5))\n",
    "fig.axes[0].set_title(\"RG17\")"
   ]
  },
  {
   "cell_type": "markdown",
   "id": "c3ef7fa9",
   "metadata": {
    "slideshow": {
     "slide_type": "subslide"
    }
   },
   "source": [
    "### Node relevance labels\n",
    "\n",
    "- An account in the Twitter mention graph is **relevant** if it corresponds to a tennis player that participated in the tournaments of the given day\n",
    "- Binary node relevance labels change from day to day based on the official schedule of the tournaments.\n",
    "- Supervised evaluation for the main tournaments: 2017-05-28 -> 2017-06-11 (15 days)"
   ]
  },
  {
   "cell_type": "code",
   "execution_count": null,
   "id": "73a2b5f2",
   "metadata": {
    "slideshow": {
     "slide_type": "fragment"
    }
   },
   "outputs": [],
   "source": [
    "players_in_finals = np.loadtxt(os.path.join(preproc_dir, \"labels_18.csv\"), delimiter=\" \")\n",
    "print(\"Found relevant players on the last day:\", len(players_in_finals))"
   ]
  },
  {
   "cell_type": "code",
   "execution_count": null,
   "id": "10e72612",
   "metadata": {
    "slideshow": {
     "slide_type": "fragment"
    }
   },
   "outputs": [],
   "source": [
    "print(players_in_finals[:5])"
   ]
  },
  {
   "cell_type": "markdown",
   "id": "f2a4c613",
   "metadata": {
    "slideshow": {
     "slide_type": "slide"
    }
   },
   "source": [
    "# 2. Online node embeddings"
   ]
  },
  {
   "cell_type": "markdown",
   "id": "71cdc556",
   "metadata": {
    "slideshow": {
     "slide_type": "fragment"
    }
   },
   "source": [
    "## i.) Initialize models\n",
    "\n",
    "Our online node embedding algorithms have two components:\n",
    "\n",
    "- **updater:** sample node pairs for representation learning\n",
    "- **learner:** online Word2Vec implementation"
   ]
  },
  {
   "cell_type": "code",
   "execution_count": null,
   "id": "1f346948",
   "metadata": {
    "slideshow": {
     "slide_type": "fragment"
    }
   },
   "outputs": [],
   "source": [
    "from online_node2vec.online.walk_sampling import StreamWalkUpdater\n",
    "from online_node2vec.online.walk_sampling import SecondOrderUpdater\n",
    "from online_node2vec.online.w2v_learners import OnlineWord2Vec"
   ]
  },
  {
   "cell_type": "markdown",
   "id": "7668fcd0",
   "metadata": {
    "slideshow": {
     "slide_type": "subslide"
    }
   },
   "source": [
    "### a.) StreamWalk\n",
    "\n",
    "**Updater parameters:**\n",
    "\n",
    "- half_life : Half-life in seconds for time decay\n",
    "- max_len : Maximum length of the sampled temporal random walks\n",
    "- beta : Damping factor for long paths\n",
    "- k: Number of sampled walks for each edge update"
   ]
  },
  {
   "cell_type": "code",
   "execution_count": null,
   "id": "dd8ecaa5",
   "metadata": {
    "slideshow": {
     "slide_type": "fragment"
    }
   },
   "outputs": [],
   "source": [
    "sw_updater = StreamWalkUpdater(\n",
    "    half_life=3*3600, \n",
    "    max_len=2, \n",
    "    beta=0.9, \n",
    "    k=4,\n",
    ")    "
   ]
  },
  {
   "cell_type": "markdown",
   "id": "1fbaf6c5",
   "metadata": {},
   "source": [
    "<img src=\"http://info.ilab.sztaki.hu/~fberes/tennis/streamWalk_v2.png\" alt=\"drawing\" width=\"370\"/>"
   ]
  },
  {
   "cell_type": "markdown",
   "id": "58307617",
   "metadata": {
    "slideshow": {
     "slide_type": "subslide"
    }
   },
   "source": [
    "**Learner parameters:**\n",
    "\n",
    "- embedding_dims :Dimensions of the representation\n",
    "- lr_rate : Learning rate\n",
    "- neg_rate: Negative rate\n",
    "- mirror: Feed sampled node pairs in both order to the learner\n",
    "- exportW1: Select representation matrix"
   ]
  },
  {
   "cell_type": "code",
   "execution_count": null,
   "id": "3758177f",
   "metadata": {
    "slideshow": {
     "slide_type": "fragment"
    }
   },
   "outputs": [],
   "source": [
    "dimensions = 128"
   ]
  },
  {
   "cell_type": "code",
   "execution_count": null,
   "id": "8e5e1ee8",
   "metadata": {
    "slideshow": {
     "slide_type": "fragment"
    }
   },
   "outputs": [],
   "source": [
    "sw_learner = OnlineWord2Vec(\n",
    "    embedding_dims=dimensions, \n",
    "    lr_rate=0.035, \n",
    "    neg_rate=10, \n",
    "    mirror=False, \n",
    "    exportW1=False, \n",
    ")"
   ]
  },
  {
   "cell_type": "markdown",
   "id": "d949f1f6",
   "metadata": {
    "slideshow": {
     "slide_type": "subslide"
    }
   },
   "source": [
    "### b.) Online second order similarity\n",
    "\n",
    "**Updater parameters:**\n",
    "\n",
    "- half_life : Half-life in seconds for time decay\n",
    "- num_hash : Number of hash functions to use for similarity approximation\n",
    "- hash_gen : Hash function generator class."
   ]
  },
  {
   "cell_type": "code",
   "execution_count": null,
   "id": "9c7cccea",
   "metadata": {
    "slideshow": {
     "slide_type": "fragment"
    }
   },
   "outputs": [],
   "source": [
    "from online_node2vec.online.hash_utils import ModHashGenerator\n",
    "so_updater = SecondOrderUpdater(\n",
    "    half_life=12*3600,\n",
    "    num_hash=20,\n",
    "    hash_generator=ModHashGenerator()\n",
    ")"
   ]
  },
  {
   "cell_type": "markdown",
   "id": "90364b27",
   "metadata": {
    "slideshow": {
     "slide_type": "fragment"
    }
   },
   "source": [
    "**Learner parameters:**\n",
    "\n",
    "- uniform_ratio: Fraction of uniform random negative samples. Remaining negative samples are chosen from past positive training instances."
   ]
  },
  {
   "cell_type": "code",
   "execution_count": null,
   "id": "ec85a44d",
   "metadata": {
    "slideshow": {
     "slide_type": "fragment"
    }
   },
   "outputs": [],
   "source": [
    "so_learner = OnlineWord2Vec(\n",
    "    embedding_dims=dimensions, \n",
    "    lr_rate=0.01, \n",
    "    neg_rate=20, \n",
    "    uniform_ratio=0.8,\n",
    ")"
   ]
  },
  {
   "cell_type": "markdown",
   "id": "7ffb3c4d",
   "metadata": {
    "slideshow": {
     "slide_type": "slide"
    }
   },
   "source": [
    "## ii.) Run models"
   ]
  },
  {
   "cell_type": "markdown",
   "id": "d3d3d6b6",
   "metadata": {
    "slideshow": {
     "slide_type": "fragment"
    }
   },
   "source": [
    "**Experiment setup:**\n",
    "- node representations are\n",
    "    - calculated for the first 3 days\n",
    "    - exported in every 6 hours\n",
    "- the total elapsed time and Word2Vec training time are shown in seconds"
   ]
  },
  {
   "cell_type": "code",
   "execution_count": null,
   "id": "dbba349e",
   "metadata": {
    "slideshow": {
     "slide_type": "fragment"
    }
   },
   "outputs": [],
   "source": [
    "result_folder = \"../results/\"\n",
    "total_days = 3\n",
    "delta_time = 6*3600\n",
    "root_dir = \"%s/%s/features_%s/delta_%i\" % (result_folder, dataset_id, 0, delta_time)\n",
    "\n",
    "from online_node2vec.data.tennis_handler import load_edge_data\n",
    "edge_data, start_time, end_time = load_edge_data(data_dir, dataset_id, total_days)"
   ]
  },
  {
   "cell_type": "markdown",
   "id": "ff039b08",
   "metadata": {
    "slideshow": {
     "slide_type": "fragment"
    }
   },
   "source": [
    "#### Calculate and export StreamWalk representations"
   ]
  },
  {
   "cell_type": "markdown",
   "id": "f87b04b0",
   "metadata": {
    "slideshow": {
     "slide_type": "subslide"
    }
   },
   "source": [
    "- OnlineNode2Vec: learnig after each edge arrival\n",
    "- LazyNode2Vec: store sampled node pairs -> delayed learning before emb. export"
   ]
  },
  {
   "cell_type": "code",
   "execution_count": null,
   "id": "26b55cd5",
   "metadata": {
    "slideshow": {
     "slide_type": "fragment"
    }
   },
   "outputs": [],
   "source": [
    "# Execution takes more time!\n",
    "from online_node2vec.online.online_node2vec_models import LazyNode2Vec # or OnlineNode2Vec\n",
    "streamwalk = LazyNode2Vec(sw_updater, sw_learner, is_decayed=True)\n",
    "streamwalk_output_dir = streamwalk.run(edge_data, delta_time, root_dir, start_time=start_time, end_time=end_time)"
   ]
  },
  {
   "cell_type": "markdown",
   "id": "d4cfe57e",
   "metadata": {
    "slideshow": {
     "slide_type": "subslide"
    }
   },
   "source": [
    "#### Calculate and export online second order similarity representations "
   ]
  },
  {
   "cell_type": "code",
   "execution_count": null,
   "id": "ad9ccf16",
   "metadata": {
    "slideshow": {
     "slide_type": "fragment"
    }
   },
   "outputs": [],
   "source": [
    "# Execution takes more time!\n",
    "second_order = LazyNode2Vec(so_updater, so_learner, is_decayed=True)\n",
    "second_order_output_dir = second_order.run(edge_data, delta_time, root_dir, start_time=start_time, end_time=end_time)"
   ]
  },
  {
   "cell_type": "markdown",
   "id": "2b7482b4",
   "metadata": {
    "slideshow": {
     "slide_type": "slide"
    }
   },
   "source": [
    "## iii.) Observe node representations over time"
   ]
  },
  {
   "cell_type": "markdown",
   "id": "806879dc",
   "metadata": {
    "slideshow": {
     "slide_type": "fragment"
    }
   },
   "source": [
    "### Load label information"
   ]
  },
  {
   "cell_type": "code",
   "execution_count": null,
   "id": "cd7dd5a7",
   "metadata": {
    "slideshow": {
     "slide_type": "fragment"
    }
   },
   "outputs": [],
   "source": [
    "from online_node2vec.data.tennis_handler import get_data_info\n",
    "gen_id_to_account, player_labels = get_data_info(os.path.join(data_dir, \"%s_preprocessed\" % dataset_id))"
   ]
  },
  {
   "cell_type": "markdown",
   "id": "cbe06cc2",
   "metadata": {
    "slideshow": {
     "slide_type": "fragment"
    }
   },
   "source": [
    "### Load node representations"
   ]
  },
  {
   "cell_type": "code",
   "execution_count": null,
   "id": "b603c406",
   "metadata": {
    "slideshow": {
     "slide_type": "skip"
    }
   },
   "outputs": [],
   "source": [
    "print(streamwalk_output_dir)"
   ]
  },
  {
   "cell_type": "code",
   "execution_count": null,
   "id": "44bf94fc",
   "metadata": {
    "slideshow": {
     "slide_type": "fragment"
    }
   },
   "outputs": [],
   "source": [
    "model_dirs = {\n",
    "    \"so\":second_order_output_dir,\n",
    "    \"sw\":streamwalk_output_dir\n",
    "}"
   ]
  },
  {
   "cell_type": "code",
   "execution_count": null,
   "id": "5a0f066e",
   "metadata": {
    "slideshow": {
     "slide_type": "fragment"
    }
   },
   "outputs": [],
   "source": [
    "from online_node2vec.data.n2v_embedding_handler import load_n2v_features\n",
    "feature_sets = {}\n",
    "for model_id in [\"sw\",\"so\"]:\n",
    "    feature_sets[model_id] = load_n2v_features(\n",
    "        model_dirs[model_id], \n",
    "        delta_time, \n",
    "        total_days, \n",
    "        player_labels, \n",
    "        verbose=False\n",
    "    )"
   ]
  },
  {
   "cell_type": "markdown",
   "id": "8a2dc3c8",
   "metadata": {
    "slideshow": {
     "slide_type": "subslide"
    }
   },
   "source": [
    "### Animation: Tennis player account embedding\n",
    "\n",
    "Only visible in the Jupyter notebook"
   ]
  },
  {
   "cell_type": "markdown",
   "id": "aea7d793",
   "metadata": {
    "slideshow": {
     "slide_type": "skip"
    }
   },
   "source": [
    "- **Nodes:** Twitter accounts of tennis players\n",
    "    - **red:** players who play on the given day\n",
    "    - **blue:** player who doesn't play on the given day\n",
    "    - colors change from day to day (after every 4 snapshots)\n",
    "    \n",
    "- **Representations:**\n",
    "    - initialized uniformly at random in a 128-dimensional space (close to the origo in snapshot=0)\n",
    "    - updated online as @-mention arrive in the edge stream (we only show the first two coordinates)\n",
    "    - performance is considered better when red nodes are mapped close to each other\n",
    "- **Results:**\n",
    "    - StreamWalk (with 3 hours half-time) efficiently capture daily players by the end of each day\n",
    "    - Online second order similarity (with longer half-life) can also map daily players close to each other in the embedded space:\n",
    "        - Try to find red node groups related to Women's or Men's Singles around snapshot 7"
   ]
  },
  {
   "cell_type": "code",
   "execution_count": null,
   "id": "52627c3f",
   "metadata": {
    "slideshow": {
     "slide_type": "fragment"
    }
   },
   "outputs": [],
   "source": [
    "dates = [\"2017-05-28\",\"2017-05-29\",\"2017-05-30\"]"
   ]
  },
  {
   "cell_type": "code",
   "execution_count": null,
   "id": "c95c277f",
   "metadata": {
    "slideshow": {
     "slide_type": "skip"
    }
   },
   "outputs": [],
   "source": [
    "from notebook_utils import prepare_animation\n",
    "from plotly.offline import init_notebook_mode\n",
    "init_notebook_mode(connected=True)\n",
    "\n",
    "fig_sw, embedding_sw = prepare_animation(\n",
    "    handler, \n",
    "    player_labels, \n",
    "    feature_sets[\"sw\"], \n",
    "    delta_time, \n",
    "    \"StreamWalk\", \n",
    "    dates\n",
    ")\n",
    "fig_so, embedding_so = prepare_animation(\n",
    "    handler, \n",
    "    player_labels, \n",
    "    feature_sets[\"so\"], \n",
    "    delta_time, \n",
    "    \"Online second order\", \n",
    "    dates\n",
    ")"
   ]
  },
  {
   "cell_type": "code",
   "execution_count": null,
   "id": "41bc4f3b",
   "metadata": {
    "slideshow": {
     "slide_type": "skip"
    }
   },
   "outputs": [],
   "source": [
    "fig_sw"
   ]
  },
  {
   "cell_type": "code",
   "execution_count": null,
   "id": "b66ce805",
   "metadata": {
    "slideshow": {
     "slide_type": "skip"
    }
   },
   "outputs": [],
   "source": [
    "fig_so"
   ]
  },
  {
   "cell_type": "markdown",
   "id": "73a0f5c9",
   "metadata": {
    "slideshow": {
     "slide_type": "slide"
    }
   },
   "source": [
    "## iv.) Task: similarity search\n",
    "\n",
    "**active account:** account `n` is active on the given day, if it belongs to a tennis player who participated in a completed, canceled, or resumed game.\n",
    "\n",
    "We use [NDCG](https://en.wikipedia.org/wiki/Discounted_cumulative_gain) (Al-Maskari et al. 2007) to evaluate how other active accounts are similar\n",
    "to a selected one. NDCG is a measure for ranked lists that assigns higher score if active\n",
    "accounts appear with higher rank in the similarity list. \n",
    "\n",
    "\n",
    "In our experiments, we compute\n",
    "the average of the **NDCG@100** for the active accounts as query nodes to measure the\n",
    "performance of a single model in any given snapshot. **Dot product** is used to measure the similarity of node representations."
   ]
  },
  {
   "cell_type": "markdown",
   "id": "c63b806d",
   "metadata": {
    "slideshow": {
     "slide_type": "subslide"
    }
   },
   "source": [
    "### a.) Single model performance"
   ]
  },
  {
   "cell_type": "code",
   "execution_count": null,
   "id": "1634fe2f",
   "metadata": {
    "slideshow": {
     "slide_type": "fragment"
    }
   },
   "outputs": [],
   "source": [
    "from online_node2vec.evaluation.ndcg_computer import parallel_eval_ndcg\n",
    "metric = \"-dot\"\n",
    "max_threads = 2\n",
    "model_performance = {}\n",
    "for model_id in [\"sw\",\"so\"]:\n",
    "    model_performance[model_id] = pd.concat(parallel_eval_ndcg(\n",
    "        feature_sets[model_id], \n",
    "        gen_id_to_account, \n",
    "        metric,\n",
    "        n_threads=max_threads\n",
    "    ))"
   ]
  },
  {
   "cell_type": "code",
   "execution_count": null,
   "id": "23834476",
   "metadata": {
    "slideshow": {
     "slide_type": "fragment"
    }
   },
   "outputs": [],
   "source": [
    "sw_ndcg = model_performance[\"sw\"][\"ndcg\"].mean()\n",
    "so_ndcg = model_performance[\"so\"][\"ndcg\"].mean()\n",
    "print(\"StreamWalk NDCG:\", sw_ndcg)\n",
    "print(\"Online second order NDCG:\", so_ndcg)"
   ]
  },
  {
   "cell_type": "markdown",
   "id": "581e0449",
   "metadata": {
    "slideshow": {
     "slide_type": "subslide"
    }
   },
   "source": [
    "### b.) Combination of StreamWalk and online second order similarity\n",
    "\n",
    "- StreamWalk and online second order similarity can learn different network properties from the edge stream. \n",
    "- We combined the output of StreamWalk and second order similarity by using the weighted average of the corresponding inner products as similarity. \n",
    "\n",
    "**NOTE: in case of low memory setting, model combination is not executed!**"
   ]
  },
  {
   "cell_type": "code",
   "execution_count": null,
   "id": "30c6e2e6",
   "metadata": {
    "slideshow": {
     "slide_type": "fragment"
    }
   },
   "outputs": [],
   "source": [
    "from online_node2vec.evaluation.ndcg_computer import parallel_combined_eval_ndcg\n",
    "from tqdm import tqdm\n",
    "\n",
    "if not low_memory_mode:\n",
    "    weights = list(np.arange(0.1,1.1,0.1))\n",
    "\n",
    "    # Execution takes more time!\n",
    "    combination_performance = []\n",
    "    for second_order_weight in tqdm(weights):\n",
    "        combination_performance.append(pd.concat(parallel_combined_eval_ndcg(\n",
    "            feature_sets[\"so\"], \n",
    "            feature_sets[\"sw\"],\n",
    "            second_order_weight, \n",
    "            gen_id_to_account, \n",
    "            metric, \n",
    "            n_threads=max_threads\n",
    "        )))"
   ]
  },
  {
   "cell_type": "code",
   "execution_count": null,
   "id": "0b713d23",
   "metadata": {
    "slideshow": {
     "slide_type": "skip"
    }
   },
   "outputs": [],
   "source": [
    "if not low_memory_mode:\n",
    "    mean_ndcg = [sw_ndcg] + [perf[\"ndcg\"].mean() for perf in combination_performance] + [so_ndcg]\n",
    "    so_weights = [0.0] + weights + [1.0]"
   ]
  },
  {
   "cell_type": "markdown",
   "id": "151227a3",
   "metadata": {
    "slideshow": {
     "slide_type": "subslide"
    }
   },
   "source": [
    "#### Combination on the first 3 days"
   ]
  },
  {
   "cell_type": "code",
   "execution_count": null,
   "id": "09cb73a9",
   "metadata": {
    "slideshow": {
     "slide_type": "fragment"
    }
   },
   "outputs": [],
   "source": [
    "if not low_memory_mode:\n",
    "    plt.figure(figsize=(8,6))\n",
    "    plt.plot(so_weights, mean_ndcg)\n",
    "    plt.title(dataset_id.upper())\n",
    "    plt.xlabel(\"Weight of the second order model in the combination\")\n",
    "    plt.ylabel(\"NDCG@100\")\n",
    "    plt.show()"
   ]
  },
  {
   "cell_type": "markdown",
   "id": "d604804b",
   "metadata": {
    "slideshow": {
     "slide_type": "subslide"
    }
   },
   "source": [
    "### c.) Results for the complete RG17 and UO17 datasets\n",
    "\n",
    "- Average performance is shown based on 10 independent experiments"
   ]
  },
  {
   "cell_type": "markdown",
   "id": "5f2712ea",
   "metadata": {
    "slideshow": {
     "slide_type": "fragment"
    }
   },
   "source": [
    "![](http://info.ilab.sztaki.hu/~fberes/tennis/combination.png)"
   ]
  },
  {
   "cell_type": "markdown",
   "id": "a3da40a3",
   "metadata": {
    "slideshow": {
     "slide_type": "subslide"
    }
   },
   "source": [
    "![](http://info.ilab.sztaki.hu/~fberes/tennis/performance_table.png)"
   ]
  },
  {
   "cell_type": "markdown",
   "id": "02f2ecad",
   "metadata": {
    "slideshow": {
     "slide_type": "subslide"
    }
   },
   "source": [
    "<img src=\"http://info.ilab.sztaki.hu/~fberes/tennis/half_life.png\" alt=\"drawing\" width=\"585\"/>"
   ]
  },
  {
   "cell_type": "markdown",
   "id": "91da1062",
   "metadata": {
    "slideshow": {
     "slide_type": "subslide"
    }
   },
   "source": [
    "<img src=\"http://info.ilab.sztaki.hu/~fberes/tennis/number_of_walks_and_hash_functions.png\" alt=\"drawing\" width=\"570\"/>"
   ]
  },
  {
   "cell_type": "markdown",
   "id": "fecf2926",
   "metadata": {
    "slideshow": {
     "slide_type": "subslide"
    }
   },
   "source": [
    "#### Temporal performance\n",
    "\n",
    "- **Cold start:** SW and SO performs significantly better after a few days\n",
    "- **Performance drop** on day 10 (2017-06-06): \n",
    "   - Quarterfinals start on this day -> much less players per day than before\n",
    "   - SW could better adapt to this concept drift SO (due to stronger time decay)"
   ]
  },
  {
   "cell_type": "markdown",
   "id": "1e55b3e8",
   "metadata": {
    "slideshow": {
     "slide_type": "fragment"
    }
   },
   "source": [
    "![](http://info.ilab.sztaki.hu/~fberes/tennis/temporal_performance.png)"
   ]
  }
 ],
 "metadata": {
  "celltoolbar": "Slideshow",
  "kernelspec": {
   "display_name": "Python 3",
   "language": "python",
   "name": "python3"
  },
  "language_info": {
   "codemirror_mode": {
    "name": "ipython",
    "version": 3
   },
   "file_extension": ".py",
   "mimetype": "text/x-python",
   "name": "python",
   "nbconvert_exporter": "python",
   "pygments_lexer": "ipython3",
   "version": "3.7.10"
  }
 },
 "nbformat": 4,
 "nbformat_minor": 5
}
